{
 "cells": [
  {
   "cell_type": "markdown",
   "id": "4a525028-a759-48d3-811b-57baf0e3dfb8",
   "metadata": {},
   "source": [
    "### Важная информация о датасете\n",
    "#### Размерность каждого изображения = 224 X 224 pixels"
   ]
  },
  {
   "cell_type": "markdown",
   "id": "c43c96cf-8d9c-4f2c-9c1d-8a61659367a4",
   "metadata": {},
   "source": [
    "### Идеи по улучшению\n",
    "#### Начнём исследовать данные, у меня есть подозрения, что часть изображений не обладает достаточной целостностью, и полупусты, надо бы разобраться насколько это влияет на обучение\n",
    "#### Стоит ли применять модификации к данным?\n"
   ]
  },
  {
   "cell_type": "code",
   "execution_count": null,
   "id": "8bba0d7d-15be-4488-80ad-9028aacdbf45",
   "metadata": {},
   "outputs": [],
   "source": []
  }
 ],
 "metadata": {
  "kernelspec": {
   "display_name": "Python 3 (ipykernel)",
   "language": "python",
   "name": "python3"
  },
  "language_info": {
   "codemirror_mode": {
    "name": "ipython",
    "version": 3
   },
   "file_extension": ".py",
   "mimetype": "text/x-python",
   "name": "python",
   "nbconvert_exporter": "python",
   "pygments_lexer": "ipython3",
   "version": "3.10.12"
  }
 },
 "nbformat": 4,
 "nbformat_minor": 5
}
